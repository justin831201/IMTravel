{
 "cells": [
  {
   "cell_type": "code",
   "execution_count": 1,
   "metadata": {
    "collapsed": true
   },
   "outputs": [],
   "source": [
    "from Site.models import Site\n",
    "from Category.models import Category\n",
    "import requests"
   ]
  },
  {
   "cell_type": "code",
   "execution_count": 5,
   "metadata": {
    "collapsed": true
   },
   "outputs": [],
   "source": [
    "sites = Site.objects.filter(isOpen=True)"
   ]
  },
  {
   "cell_type": "code",
   "execution_count": 8,
   "metadata": {
    "collapsed": false
   },
   "outputs": [
    {
     "name": "stdout",
     "output_type": "stream",
     "text": [
      "92\n",
      "['養生溫泉', '歷史建築', '藝文館所', '戶外踏青', '宗教信仰', '其他', '休閒遊憩']\n"
     ]
    }
   ],
   "source": [
    "categories = []\n",
    "print(len(sites))\n",
    "for site in sites:\n",
    "    flag = True\n",
    "    for category in categories:\n",
    "        if category == site.category:\n",
    "            flag = False\n",
    "    if flag:\n",
    "        categories.append(site.category)\n",
    "    if site.category == \"其\\u3000\\u3000他\":\n",
    "        site.category = \"其他\"\n",
    "        site.save()\n",
    "        print(site)\n",
    "    category = Category.objects.get(chinese_name=site.category)\n",
    "    site.cat = category\n",
    "    site.save()\n",
    "print(categories)"
   ]
  },
  {
   "cell_type": "code",
   "execution_count": null,
   "metadata": {
    "collapsed": true
   },
   "outputs": [],
   "source": []
  }
 ],
 "metadata": {
  "kernelspec": {
   "display_name": "Django Shell-Plus",
   "language": "python",
   "name": "django_extensions"
  },
  "language_info": {
   "codemirror_mode": {
    "name": "ipython",
    "version": 3
   },
   "file_extension": ".py",
   "mimetype": "text/x-python",
   "name": "python",
   "nbconvert_exporter": "python",
   "pygments_lexer": "ipython3",
   "version": "3.5.2"
  }
 },
 "nbformat": 4,
 "nbformat_minor": 1
}
