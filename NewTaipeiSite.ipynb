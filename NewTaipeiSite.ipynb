{
 "cells": [
  {
   "cell_type": "code",
   "execution_count": 6,
   "metadata": {
    "collapsed": true
   },
   "outputs": [],
   "source": [
    "from Site.models import Site, SiteView\n",
    "from Country.models import Region\n",
    "from Category.models import Category\n",
    "import requests"
   ]
  },
  {
   "cell_type": "code",
   "execution_count": 7,
   "metadata": {
    "collapsed": true
   },
   "outputs": [],
   "source": [
    "request = requests.get(\"http://data.ntpc.gov.tw/od/data/api/A886239B-D7C1-4309-870F-E0F64D088025?$format=json\")"
   ]
  },
  {
   "cell_type": "code",
   "execution_count": 8,
   "metadata": {
    "collapsed": true
   },
   "outputs": [],
   "source": [
    "def category(class1):\n",
    "    if class1 == 1:\n",
    "        return \"藝文館所\"\n",
    "    elif class1 == 2:\n",
    "        return \"自然風景\"\n",
    "    elif class1 == 3:\n",
    "        return \"歷史建築\"\n",
    "    elif class1 == 4:\n",
    "        return \"宗教信仰\"\n",
    "    elif class1 == 5:\n",
    "        return \"藝文館所\"\n",
    "    elif class1 == 6:\n",
    "        return \"特色小吃\"\n",
    "    elif class1 == 7:\n",
    "        return \"自然風景\"\n",
    "    elif class1 == 8:\n",
    "        return \"自然風景\"\n",
    "    elif class1 == 9:\n",
    "        return \"戶外踏青\"\n",
    "    elif class1 == 10:\n",
    "        return \"養身溫泉\"\n",
    "    elif class1 == 11:\n",
    "        return \"自然風景\"\n",
    "    elif class1 == 12:\n",
    "        return \"休閒遊憩\"\n",
    "    elif class1 == 13:\n",
    "        return \"體育健身\"\n",
    "    elif class1 == 14:\n",
    "        return \"休閒遊憩\"\n",
    "    elif class1 == 15:\n",
    "        return \"戶外踏青\"\n",
    "    elif class1 == 16:\n",
    "        return \"休閒遊憩\"\n",
    "    elif class1 == 17:\n",
    "        return \"自然風景\"\n",
    "    elif class1 == 18:\n",
    "        return \"其   他\""
   ]
  },
  {
   "cell_type": "code",
   "execution_count": 9,
   "metadata": {
    "collapsed": true
   },
   "outputs": [],
   "source": [
    "data = request.json()"
   ]
  },
  {
   "cell_type": "code",
   "execution_count": 15,
   "metadata": {
    "collapsed": false
   },
   "outputs": [],
   "source": [
    "results = data\n",
    "for result in results:\n",
    "    print(\"名稱：\"+result[\"Name\"])\n",
    "    print(\"經度：\"+result[\"Px\"])\n",
    "    print(\"緯度：\"+result[\"Py\"])\n",
    "    City = Region.objects.get(chinese_name = \"新北\")\n",
    "    print(\"城市：\"+str(City))\n",
    "    print(\"地址：\"+result[\"Add\"])\n",
    "    print(\"描述：\"+result[\"Toldescribe\"])\n",
    "    print(\"交通：\"+result[\"Travellinginfo\"])\n",
    "    print(\"時間：\"+result[\"Opentime\"])\n",
    "    name1 = category(int(result[\"Class1\"]))\n",
    "    Cat = Category.objects.get(chinese_name = name1)\n",
    "    print(\"分類：\"+str(Cat))\n",
    "    if result[\"Picture1\"] != \"http://tour.ntpc.gov.tw/images/web/ngis_default.jpg\":\n",
    "        print(\"相關照片:\\n\"+ result[\"Picture1\"])\n",
    "        if result[\"Picture2\"] != \"\":\n",
    "            print(result[\"Picture2\"])\n",
    "        if result[\"Picture3\"] !=\"\":\n",
    "            print(result[\"Picture3\"])\n",
    "    print(\"\")\n",
    "    if len(result['Name'])>50:\n",
    "        tempSite = Site.objects.create(name=\"烏來\",\n",
    "                                   longitude=float(result['Px']),\n",
    "                                   latitude=float(result['Py']),\n",
    "                                   region=City,\n",
    "                                   address=result['Add'],\n",
    "                                   info=result['Toldescribe'],\n",
    "                                   transportation=result['Travellinginfo'],\n",
    "                                   openTime=result['Opentime'],\n",
    "                                   isOpen=True,\n",
    "                                   cat=Cat)\n",
    "        tempSite.save()\n",
    "    else:\n",
    "        tempSite = Site.objects.create(name=result['Name'],\n",
    "                                   longitude=float(result['Px']),\n",
    "                                   latitude=float(result['Py']),\n",
    "                                   region=City,\n",
    "                                   address=result['Add'],\n",
    "                                   info=result['Toldescribe'],\n",
    "                                   transportation=result['Travellinginfo'],\n",
    "                                   openTime=result['Opentime'],\n",
    "                                   isOpen=True,\n",
    "                                   cat=Cat)\n",
    "        tempSite.save()\n",
    "    if result[\"Picture1\"] != \"http://tour.ntpc.gov.tw/images/web/ngis_default.jpg\":\n",
    "        siteView1 = SiteView.objects.create(site=tempSite,location=result['Picture1'])\n",
    "        siteView1.save()\n",
    "        if result[\"Picture2\"] != \"\":\n",
    "            siteView2 = SiteView.objects.create(site=tempSite,location=result['Picture2'])\n",
    "            siteView2.save()\n",
    "        if result[\"Picture3\"] !=\"\":\n",
    "            siteView3 = SiteView.objects.create(site=tempSite,location=result['Picture3'])\n",
    "            siteView3.save()"
   ]
  },
  {
   "cell_type": "code",
   "execution_count": 16,
   "metadata": {
    "collapsed": false
   },
   "outputs": [
    {
     "name": "stdout",
     "output_type": "stream",
     "text": [
      "烏來觀光台車 (<font color='red' >烏來台車因颱風受損，目前整修中。</font>)\n"
     ]
    }
   ],
   "source": [
    "for result in results:\n",
    "    if len(result['Name'])>50:\n",
    "        print(result['Name'])"
   ]
  },
  {
   "cell_type": "code",
   "execution_count": null,
   "metadata": {
    "collapsed": true
   },
   "outputs": [],
   "source": []
  }
 ],
 "metadata": {
  "kernelspec": {
   "display_name": "Django Shell-Plus",
   "language": "python",
   "name": "django_extensions"
  },
  "language_info": {
   "codemirror_mode": {
    "name": "ipython",
    "version": 3
   },
   "file_extension": ".py",
   "mimetype": "text/x-python",
   "name": "python",
   "nbconvert_exporter": "python",
   "pygments_lexer": "ipython3",
   "version": "3.5.2"
  }
 },
 "nbformat": 4,
 "nbformat_minor": 1
}
